{
 "cells": [
  {
   "cell_type": "markdown",
   "metadata": {},
   "source": [
    "# VG Sales\n",
    "\n",
    "## Arturo Fornés Arvayo A01227071"
   ]
  },
  {
   "cell_type": "code",
   "execution_count": 10,
   "metadata": {},
   "outputs": [],
   "source": [
    "vg<-read.csv('0510_vgsales.csv', sep=',', header = TRUE)"
   ]
  },
  {
   "cell_type": "code",
   "execution_count": 11,
   "metadata": {},
   "outputs": [
    {
     "data": {
      "text/html": [
       "<table>\n",
       "<thead><tr><th scope=col>Rank</th><th scope=col>Name</th><th scope=col>Platform</th><th scope=col>Year</th><th scope=col>Genre</th><th scope=col>Publisher</th><th scope=col>NA_Sales</th><th scope=col>EU_Sales</th><th scope=col>JP_Sales</th><th scope=col>Other_Sales</th><th scope=col>Global_Sales</th></tr></thead>\n",
       "<tbody>\n",
       "\t<tr><td>1                       </td><td>Wii Sports              </td><td>Wii                     </td><td>2006                    </td><td>Sports                  </td><td>Nintendo                </td><td>41.49                   </td><td>29.02                   </td><td> 3.77                   </td><td>8.46                    </td><td>82.74                   </td></tr>\n",
       "\t<tr><td>2                       </td><td>Super Mario Bros.       </td><td>NES                     </td><td>1985                    </td><td>Platform                </td><td>Nintendo                </td><td>29.08                   </td><td> 3.58                   </td><td> 6.81                   </td><td>0.77                    </td><td>40.24                   </td></tr>\n",
       "\t<tr><td>3                       </td><td>Mario Kart Wii          </td><td>Wii                     </td><td>2008                    </td><td>Racing                  </td><td>Nintendo                </td><td>15.85                   </td><td>12.88                   </td><td> 3.79                   </td><td>3.31                    </td><td>35.82                   </td></tr>\n",
       "\t<tr><td>4                       </td><td>Wii Sports Resort       </td><td>Wii                     </td><td>2009                    </td><td>Sports                  </td><td>Nintendo                </td><td>15.75                   </td><td>11.01                   </td><td> 3.28                   </td><td>2.96                    </td><td>33.00                   </td></tr>\n",
       "\t<tr><td>5                       </td><td>Pokemon Red/Pokemon Blue</td><td>GB                      </td><td>1996                    </td><td>Role-Playing            </td><td>Nintendo                </td><td>11.27                   </td><td> 8.89                   </td><td>10.22                   </td><td>1.00                    </td><td>31.37                   </td></tr>\n",
       "</tbody>\n",
       "</table>\n"
      ],
      "text/latex": [
       "\\begin{tabular}{r|lllllllllll}\n",
       " Rank & Name & Platform & Year & Genre & Publisher & NA\\_Sales & EU\\_Sales & JP\\_Sales & Other\\_Sales & Global\\_Sales\\\\\n",
       "\\hline\n",
       "\t 1                        & Wii Sports               & Wii                      & 2006                     & Sports                   & Nintendo                 & 41.49                    & 29.02                    &  3.77                    & 8.46                     & 82.74                   \\\\\n",
       "\t 2                        & Super Mario Bros.        & NES                      & 1985                     & Platform                 & Nintendo                 & 29.08                    &  3.58                    &  6.81                    & 0.77                     & 40.24                   \\\\\n",
       "\t 3                        & Mario Kart Wii           & Wii                      & 2008                     & Racing                   & Nintendo                 & 15.85                    & 12.88                    &  3.79                    & 3.31                     & 35.82                   \\\\\n",
       "\t 4                        & Wii Sports Resort        & Wii                      & 2009                     & Sports                   & Nintendo                 & 15.75                    & 11.01                    &  3.28                    & 2.96                     & 33.00                   \\\\\n",
       "\t 5                        & Pokemon Red/Pokemon Blue & GB                       & 1996                     & Role-Playing             & Nintendo                 & 11.27                    &  8.89                    & 10.22                    & 1.00                     & 31.37                   \\\\\n",
       "\\end{tabular}\n"
      ],
      "text/markdown": [
       "\n",
       "Rank | Name | Platform | Year | Genre | Publisher | NA_Sales | EU_Sales | JP_Sales | Other_Sales | Global_Sales | \n",
       "|---|---|---|---|---|\n",
       "| 1                        | Wii Sports               | Wii                      | 2006                     | Sports                   | Nintendo                 | 41.49                    | 29.02                    |  3.77                    | 8.46                     | 82.74                    | \n",
       "| 2                        | Super Mario Bros.        | NES                      | 1985                     | Platform                 | Nintendo                 | 29.08                    |  3.58                    |  6.81                    | 0.77                     | 40.24                    | \n",
       "| 3                        | Mario Kart Wii           | Wii                      | 2008                     | Racing                   | Nintendo                 | 15.85                    | 12.88                    |  3.79                    | 3.31                     | 35.82                    | \n",
       "| 4                        | Wii Sports Resort        | Wii                      | 2009                     | Sports                   | Nintendo                 | 15.75                    | 11.01                    |  3.28                    | 2.96                     | 33.00                    | \n",
       "| 5                        | Pokemon Red/Pokemon Blue | GB                       | 1996                     | Role-Playing             | Nintendo                 | 11.27                    |  8.89                    | 10.22                    | 1.00                     | 31.37                    | \n",
       "\n",
       "\n"
      ],
      "text/plain": [
       "  Rank Name                     Platform Year Genre        Publisher NA_Sales\n",
       "1 1    Wii Sports               Wii      2006 Sports       Nintendo  41.49   \n",
       "2 2    Super Mario Bros.        NES      1985 Platform     Nintendo  29.08   \n",
       "3 3    Mario Kart Wii           Wii      2008 Racing       Nintendo  15.85   \n",
       "4 4    Wii Sports Resort        Wii      2009 Sports       Nintendo  15.75   \n",
       "5 5    Pokemon Red/Pokemon Blue GB       1996 Role-Playing Nintendo  11.27   \n",
       "  EU_Sales JP_Sales Other_Sales Global_Sales\n",
       "1 29.02     3.77    8.46        82.74       \n",
       "2  3.58     6.81    0.77        40.24       \n",
       "3 12.88     3.79    3.31        35.82       \n",
       "4 11.01     3.28    2.96        33.00       \n",
       "5  8.89    10.22    1.00        31.37       "
      ]
     },
     "metadata": {},
     "output_type": "display_data"
    }
   ],
   "source": [
    "head(vg,5)"
   ]
  },
  {
   "cell_type": "code",
   "execution_count": 12,
   "metadata": {},
   "outputs": [
    {
     "name": "stderr",
     "output_type": "stream",
     "text": [
      "\n",
      "Attaching package: ‘dplyr’\n",
      "\n",
      "The following objects are masked from ‘package:stats’:\n",
      "\n",
      "    filter, lag\n",
      "\n",
      "The following objects are masked from ‘package:base’:\n",
      "\n",
      "    intersect, setdiff, setequal, union\n",
      "\n"
     ]
    }
   ],
   "source": [
    "library(dplyr)\n",
    "salesPerPublisher<-group_by(vg, Publisher)"
   ]
  },
  {
   "cell_type": "code",
   "execution_count": 13,
   "metadata": {},
   "outputs": [],
   "source": [
    "salesPerPublisher<-summarize(salesPerPublisher, GSales =sum(Global_Sales))"
   ]
  },
  {
   "cell_type": "code",
   "execution_count": 14,
   "metadata": {},
   "outputs": [],
   "source": [
    "salesPerPublisher<-arrange(salesPerPublisher, GSales)"
   ]
  },
  {
   "cell_type": "code",
   "execution_count": 15,
   "metadata": {},
   "outputs": [
    {
     "data": {
      "text/html": [
       "<table>\n",
       "<thead><tr><th scope=col>Publisher</th><th scope=col>GSales</th></tr></thead>\n",
       "<tbody>\n",
       "\t<tr><td>Take-Two Interactive       </td><td> 399.54                    </td></tr>\n",
       "\t<tr><td>Ubisoft                    </td><td> 474.72                    </td></tr>\n",
       "\t<tr><td>Sony Computer Entertainment</td><td> 607.50                    </td></tr>\n",
       "\t<tr><td>Activision                 </td><td> 727.46                    </td></tr>\n",
       "\t<tr><td>Electronic Arts            </td><td>1110.32                    </td></tr>\n",
       "\t<tr><td>Nintendo                   </td><td>1786.56                    </td></tr>\n",
       "</tbody>\n",
       "</table>\n"
      ],
      "text/latex": [
       "\\begin{tabular}{r|ll}\n",
       " Publisher & GSales\\\\\n",
       "\\hline\n",
       "\t Take-Two Interactive        &  399.54                    \\\\\n",
       "\t Ubisoft                     &  474.72                    \\\\\n",
       "\t Sony Computer Entertainment &  607.50                    \\\\\n",
       "\t Activision                  &  727.46                    \\\\\n",
       "\t Electronic Arts             & 1110.32                    \\\\\n",
       "\t Nintendo                    & 1786.56                    \\\\\n",
       "\\end{tabular}\n"
      ],
      "text/markdown": [
       "\n",
       "Publisher | GSales | \n",
       "|---|---|---|---|---|---|\n",
       "| Take-Two Interactive        |  399.54                     | \n",
       "| Ubisoft                     |  474.72                     | \n",
       "| Sony Computer Entertainment |  607.50                     | \n",
       "| Activision                  |  727.46                     | \n",
       "| Electronic Arts             | 1110.32                     | \n",
       "| Nintendo                    | 1786.56                     | \n",
       "\n",
       "\n"
      ],
      "text/plain": [
       "  Publisher                   GSales \n",
       "1 Take-Two Interactive         399.54\n",
       "2 Ubisoft                      474.72\n",
       "3 Sony Computer Entertainment  607.50\n",
       "4 Activision                   727.46\n",
       "5 Electronic Arts             1110.32\n",
       "6 Nintendo                    1786.56"
      ]
     },
     "metadata": {},
     "output_type": "display_data"
    }
   ],
   "source": [
    "tail(salesPerPublisher)"
   ]
  },
  {
   "cell_type": "code",
   "execution_count": 16,
   "metadata": {},
   "outputs": [],
   "source": [
    "Nintendo <- filter(vg, Publisher == 'Nintendo')"
   ]
  },
  {
   "cell_type": "code",
   "execution_count": 17,
   "metadata": {},
   "outputs": [
    {
     "data": {
      "text/html": [
       "<ol class=list-inline>\n",
       "\t<li>703</li>\n",
       "\t<li>11</li>\n",
       "</ol>\n"
      ],
      "text/latex": [
       "\\begin{enumerate*}\n",
       "\\item 703\n",
       "\\item 11\n",
       "\\end{enumerate*}\n"
      ],
      "text/markdown": [
       "1. 703\n",
       "2. 11\n",
       "\n",
       "\n"
      ],
      "text/plain": [
       "[1] 703  11"
      ]
     },
     "metadata": {},
     "output_type": "display_data"
    }
   ],
   "source": [
    "dim(Nintendo)"
   ]
  },
  {
   "cell_type": "code",
   "execution_count": 18,
   "metadata": {
    "scrolled": true
   },
   "outputs": [
    {
     "data": {
      "text/html": [
       "<table>\n",
       "<thead><tr><th scope=col>Global_Sales</th></tr></thead>\n",
       "<tbody>\n",
       "\t<tr><td>1786.56</td></tr>\n",
       "</tbody>\n",
       "</table>\n"
      ],
      "text/latex": [
       "\\begin{tabular}{r|l}\n",
       " Global\\_Sales\\\\\n",
       "\\hline\n",
       "\t 1786.56\\\\\n",
       "\\end{tabular}\n"
      ],
      "text/markdown": [
       "\n",
       "Global_Sales | \n",
       "|---|\n",
       "| 1786.56 | \n",
       "\n",
       "\n"
      ],
      "text/plain": [
       "  Global_Sales\n",
       "1 1786.56     "
      ]
     },
     "metadata": {},
     "output_type": "display_data"
    }
   ],
   "source": [
    "summarise(Nintendo, Global_Sales=sum(Global_Sales))"
   ]
  },
  {
   "cell_type": "code",
   "execution_count": null,
   "metadata": {},
   "outputs": [],
   "source": []
  }
 ],
 "metadata": {
  "kernelspec": {
   "display_name": "R",
   "language": "R",
   "name": "ir"
  },
  "language_info": {
   "codemirror_mode": "r",
   "file_extension": ".r",
   "mimetype": "text/x-r-source",
   "name": "R",
   "pygments_lexer": "r",
   "version": "3.5.1"
  }
 },
 "nbformat": 4,
 "nbformat_minor": 2
}
