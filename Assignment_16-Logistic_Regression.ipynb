{
 "cells": [
  {
   "cell_type": "markdown",
   "metadata": {},
   "source": [
    "# Assignment 16 - Logistic Regression\n",
    "## Arturo Fornés Arvayo A01227071 April 25th, 2019"
   ]
  },
  {
   "cell_type": "code",
   "execution_count": 18,
   "metadata": {},
   "outputs": [],
   "source": [
    "# install.packages(\"mlbench\")"
   ]
  },
  {
   "cell_type": "code",
   "execution_count": 2,
   "metadata": {},
   "outputs": [],
   "source": [
    "data(BreastCancer, package=\"mlbench\")"
   ]
  },
  {
   "cell_type": "code",
   "execution_count": 3,
   "metadata": {},
   "outputs": [],
   "source": [
    "# create copy\n",
    "bc <- BreastCancer[complete.cases(BreastCancer), ] "
   ]
  },
  {
   "cell_type": "code",
   "execution_count": 4,
   "metadata": {},
   "outputs": [
    {
     "data": {
      "text/html": [
       "<table>\n",
       "<thead><tr><th scope=col>Id</th><th scope=col>Cl.thickness</th><th scope=col>Cell.size</th><th scope=col>Cell.shape</th><th scope=col>Marg.adhesion</th><th scope=col>Epith.c.size</th><th scope=col>Bare.nuclei</th><th scope=col>Bl.cromatin</th><th scope=col>Normal.nucleoli</th><th scope=col>Mitoses</th><th scope=col>Class</th></tr></thead>\n",
       "<tbody>\n",
       "\t<tr><td>1000025  </td><td>5        </td><td>1        </td><td>1        </td><td>1        </td><td>2        </td><td>1        </td><td>3        </td><td>1        </td><td>1        </td><td>benign   </td></tr>\n",
       "\t<tr><td>1002945  </td><td>5        </td><td>4        </td><td>4        </td><td>5        </td><td>7        </td><td>10       </td><td>3        </td><td>2        </td><td>1        </td><td>benign   </td></tr>\n",
       "\t<tr><td>1015425  </td><td>3        </td><td>1        </td><td>1        </td><td>1        </td><td>2        </td><td>2        </td><td>3        </td><td>1        </td><td>1        </td><td>benign   </td></tr>\n",
       "\t<tr><td>1016277  </td><td>6        </td><td>8        </td><td>8        </td><td>1        </td><td>3        </td><td>4        </td><td>3        </td><td>7        </td><td>1        </td><td>benign   </td></tr>\n",
       "\t<tr><td>1017023  </td><td>4        </td><td>1        </td><td>1        </td><td>3        </td><td>2        </td><td>1        </td><td>3        </td><td>1        </td><td>1        </td><td>benign   </td></tr>\n",
       "\t<tr><td>1017122  </td><td>8        </td><td>10       </td><td>10       </td><td>8        </td><td>7        </td><td>10       </td><td>9        </td><td>7        </td><td>1        </td><td>malignant</td></tr>\n",
       "</tbody>\n",
       "</table>\n"
      ],
      "text/latex": [
       "\\begin{tabular}{r|lllllllllll}\n",
       " Id & Cl.thickness & Cell.size & Cell.shape & Marg.adhesion & Epith.c.size & Bare.nuclei & Bl.cromatin & Normal.nucleoli & Mitoses & Class\\\\\n",
       "\\hline\n",
       "\t 1000025   & 5         & 1         & 1         & 1         & 2         & 1         & 3         & 1         & 1         & benign   \\\\\n",
       "\t 1002945   & 5         & 4         & 4         & 5         & 7         & 10        & 3         & 2         & 1         & benign   \\\\\n",
       "\t 1015425   & 3         & 1         & 1         & 1         & 2         & 2         & 3         & 1         & 1         & benign   \\\\\n",
       "\t 1016277   & 6         & 8         & 8         & 1         & 3         & 4         & 3         & 7         & 1         & benign   \\\\\n",
       "\t 1017023   & 4         & 1         & 1         & 3         & 2         & 1         & 3         & 1         & 1         & benign   \\\\\n",
       "\t 1017122   & 8         & 10        & 10        & 8         & 7         & 10        & 9         & 7         & 1         & malignant\\\\\n",
       "\\end{tabular}\n"
      ],
      "text/markdown": [
       "\n",
       "Id | Cl.thickness | Cell.size | Cell.shape | Marg.adhesion | Epith.c.size | Bare.nuclei | Bl.cromatin | Normal.nucleoli | Mitoses | Class | \n",
       "|---|---|---|---|---|---|\n",
       "| 1000025   | 5         | 1         | 1         | 1         | 2         | 1         | 3         | 1         | 1         | benign    | \n",
       "| 1002945   | 5         | 4         | 4         | 5         | 7         | 10        | 3         | 2         | 1         | benign    | \n",
       "| 1015425   | 3         | 1         | 1         | 1         | 2         | 2         | 3         | 1         | 1         | benign    | \n",
       "| 1016277   | 6         | 8         | 8         | 1         | 3         | 4         | 3         | 7         | 1         | benign    | \n",
       "| 1017023   | 4         | 1         | 1         | 3         | 2         | 1         | 3         | 1         | 1         | benign    | \n",
       "| 1017122   | 8         | 10        | 10        | 8         | 7         | 10        | 9         | 7         | 1         | malignant | \n",
       "\n",
       "\n"
      ],
      "text/plain": [
       "  Id      Cl.thickness Cell.size Cell.shape Marg.adhesion Epith.c.size\n",
       "1 1000025 5            1         1          1             2           \n",
       "2 1002945 5            4         4          5             7           \n",
       "3 1015425 3            1         1          1             2           \n",
       "4 1016277 6            8         8          1             3           \n",
       "5 1017023 4            1         1          3             2           \n",
       "6 1017122 8            10        10         8             7           \n",
       "  Bare.nuclei Bl.cromatin Normal.nucleoli Mitoses Class    \n",
       "1 1           3           1               1       benign   \n",
       "2 10          3           2               1       benign   \n",
       "3 2           3           1               1       benign   \n",
       "4 4           3           7               1       benign   \n",
       "5 1           3           1               1       benign   \n",
       "6 10          9           7               1       malignant"
      ]
     },
     "metadata": {},
     "output_type": "display_data"
    }
   ],
   "source": [
    "head(bc)"
   ]
  },
  {
   "cell_type": "code",
   "execution_count": 5,
   "metadata": {},
   "outputs": [
    {
     "name": "stdout",
     "output_type": "stream",
     "text": [
      "'data.frame':\t683 obs. of  11 variables:\n",
      " $ Id             : chr  \"1000025\" \"1002945\" \"1015425\" \"1016277\" ...\n",
      " $ Cl.thickness   : Ord.factor w/ 10 levels \"1\"<\"2\"<\"3\"<\"4\"<..: 5 5 3 6 4 8 1 2 2 4 ...\n",
      " $ Cell.size      : Ord.factor w/ 10 levels \"1\"<\"2\"<\"3\"<\"4\"<..: 1 4 1 8 1 10 1 1 1 2 ...\n",
      " $ Cell.shape     : Ord.factor w/ 10 levels \"1\"<\"2\"<\"3\"<\"4\"<..: 1 4 1 8 1 10 1 2 1 1 ...\n",
      " $ Marg.adhesion  : Ord.factor w/ 10 levels \"1\"<\"2\"<\"3\"<\"4\"<..: 1 5 1 1 3 8 1 1 1 1 ...\n",
      " $ Epith.c.size   : Ord.factor w/ 10 levels \"1\"<\"2\"<\"3\"<\"4\"<..: 2 7 2 3 2 7 2 2 2 2 ...\n",
      " $ Bare.nuclei    : Factor w/ 10 levels \"1\",\"2\",\"3\",\"4\",..: 1 10 2 4 1 10 10 1 1 1 ...\n",
      " $ Bl.cromatin    : Factor w/ 10 levels \"1\",\"2\",\"3\",\"4\",..: 3 3 3 3 3 9 3 3 1 2 ...\n",
      " $ Normal.nucleoli: Factor w/ 10 levels \"1\",\"2\",\"3\",\"4\",..: 1 2 1 7 1 7 1 1 1 1 ...\n",
      " $ Mitoses        : Factor w/ 9 levels \"1\",\"2\",\"3\",\"4\",..: 1 1 1 1 1 1 1 1 5 1 ...\n",
      " $ Class          : Factor w/ 2 levels \"benign\",\"malignant\": 1 1 1 1 1 2 1 1 1 1 ...\n"
     ]
    }
   ],
   "source": [
    "str(bc)"
   ]
  },
  {
   "cell_type": "code",
   "execution_count": 6,
   "metadata": {},
   "outputs": [
    {
     "data": {
      "text/plain": [
       "\n",
       "Call:  glm(formula = Class ~ Cell.shape, family = \"binomial\", data = bc)\n",
       "\n",
       "Coefficients:\n",
       " (Intercept)  Cell.shape.L  Cell.shape.Q  Cell.shape.C  Cell.shape^4  \n",
       "       4.189        20.911         6.848         5.763        -1.267  \n",
       "Cell.shape^5  Cell.shape^6  Cell.shape^7  Cell.shape^8  Cell.shape^9  \n",
       "      -4.439        -5.183        -3.013        -1.289        -0.860  \n",
       "\n",
       "Degrees of Freedom: 682 Total (i.e. Null);  673 Residual\n",
       "Null Deviance:\t    884.4 \n",
       "Residual Deviance: 243.6 \tAIC: 263.6"
      ]
     },
     "metadata": {},
     "output_type": "display_data"
    }
   ],
   "source": [
    "glm(Class ~ Cell.shape, family=\"binomial\", data = bc)"
   ]
  },
  {
   "cell_type": "code",
   "execution_count": 7,
   "metadata": {},
   "outputs": [],
   "source": [
    "bc <- bc[,-1]"
   ]
  },
  {
   "cell_type": "code",
   "execution_count": 8,
   "metadata": {},
   "outputs": [],
   "source": [
    "for(i in 1:9) {\n",
    "    bc[, i] <- as.numeric(as.character(bc[, i]))\n",
    "}"
   ]
  },
  {
   "cell_type": "code",
   "execution_count": 9,
   "metadata": {},
   "outputs": [],
   "source": [
    "bc$Class <- ifelse(bc$Class == \"malignant\", 1, 0)\n",
    "bc$Class <- factor(bc$Class, levels = c(0, 1))"
   ]
  },
  {
   "cell_type": "code",
   "execution_count": 10,
   "metadata": {},
   "outputs": [
    {
     "name": "stdout",
     "output_type": "stream",
     "text": [
      "'data.frame':\t683 obs. of  10 variables:\n",
      " $ Cl.thickness   : num  5 5 3 6 4 8 1 2 2 4 ...\n",
      " $ Cell.size      : num  1 4 1 8 1 10 1 1 1 2 ...\n",
      " $ Cell.shape     : num  1 4 1 8 1 10 1 2 1 1 ...\n",
      " $ Marg.adhesion  : num  1 5 1 1 3 8 1 1 1 1 ...\n",
      " $ Epith.c.size   : num  2 7 2 3 2 7 2 2 2 2 ...\n",
      " $ Bare.nuclei    : num  1 10 2 4 1 10 10 1 1 1 ...\n",
      " $ Bl.cromatin    : num  3 3 3 3 3 9 3 3 1 2 ...\n",
      " $ Normal.nucleoli: num  1 2 1 7 1 7 1 1 1 1 ...\n",
      " $ Mitoses        : num  1 1 1 1 1 1 1 1 5 1 ...\n",
      " $ Class          : Factor w/ 2 levels \"0\",\"1\": 1 1 1 1 1 2 1 1 1 1 ...\n"
     ]
    }
   ],
   "source": [
    "str(bc)"
   ]
  },
  {
   "cell_type": "code",
   "execution_count": 11,
   "metadata": {},
   "outputs": [
    {
     "data": {
      "text/html": [
       "<table>\n",
       "<thead><tr><th scope=col>Cl.thickness</th><th scope=col>Cell.size</th><th scope=col>Cell.shape</th><th scope=col>Marg.adhesion</th><th scope=col>Epith.c.size</th><th scope=col>Bare.nuclei</th><th scope=col>Bl.cromatin</th><th scope=col>Normal.nucleoli</th><th scope=col>Mitoses</th><th scope=col>Class</th></tr></thead>\n",
       "<tbody>\n",
       "\t<tr><td>5 </td><td> 1</td><td> 1</td><td>1 </td><td>2 </td><td> 1</td><td>3 </td><td>1 </td><td>1 </td><td>0 </td></tr>\n",
       "\t<tr><td>5 </td><td> 4</td><td> 4</td><td>5 </td><td>7 </td><td>10</td><td>3 </td><td>2 </td><td>1 </td><td>0 </td></tr>\n",
       "\t<tr><td>3 </td><td> 1</td><td> 1</td><td>1 </td><td>2 </td><td> 2</td><td>3 </td><td>1 </td><td>1 </td><td>0 </td></tr>\n",
       "\t<tr><td>6 </td><td> 8</td><td> 8</td><td>1 </td><td>3 </td><td> 4</td><td>3 </td><td>7 </td><td>1 </td><td>0 </td></tr>\n",
       "\t<tr><td>4 </td><td> 1</td><td> 1</td><td>3 </td><td>2 </td><td> 1</td><td>3 </td><td>1 </td><td>1 </td><td>0 </td></tr>\n",
       "\t<tr><td>8 </td><td>10</td><td>10</td><td>8 </td><td>7 </td><td>10</td><td>9 </td><td>7 </td><td>1 </td><td>1 </td></tr>\n",
       "</tbody>\n",
       "</table>\n"
      ],
      "text/latex": [
       "\\begin{tabular}{r|llllllllll}\n",
       " Cl.thickness & Cell.size & Cell.shape & Marg.adhesion & Epith.c.size & Bare.nuclei & Bl.cromatin & Normal.nucleoli & Mitoses & Class\\\\\n",
       "\\hline\n",
       "\t 5  &  1 &  1 & 1  & 2  &  1 & 3  & 1  & 1  & 0 \\\\\n",
       "\t 5  &  4 &  4 & 5  & 7  & 10 & 3  & 2  & 1  & 0 \\\\\n",
       "\t 3  &  1 &  1 & 1  & 2  &  2 & 3  & 1  & 1  & 0 \\\\\n",
       "\t 6  &  8 &  8 & 1  & 3  &  4 & 3  & 7  & 1  & 0 \\\\\n",
       "\t 4  &  1 &  1 & 3  & 2  &  1 & 3  & 1  & 1  & 0 \\\\\n",
       "\t 8  & 10 & 10 & 8  & 7  & 10 & 9  & 7  & 1  & 1 \\\\\n",
       "\\end{tabular}\n"
      ],
      "text/markdown": [
       "\n",
       "Cl.thickness | Cell.size | Cell.shape | Marg.adhesion | Epith.c.size | Bare.nuclei | Bl.cromatin | Normal.nucleoli | Mitoses | Class | \n",
       "|---|---|---|---|---|---|\n",
       "| 5  |  1 |  1 | 1  | 2  |  1 | 3  | 1  | 1  | 0  | \n",
       "| 5  |  4 |  4 | 5  | 7  | 10 | 3  | 2  | 1  | 0  | \n",
       "| 3  |  1 |  1 | 1  | 2  |  2 | 3  | 1  | 1  | 0  | \n",
       "| 6  |  8 |  8 | 1  | 3  |  4 | 3  | 7  | 1  | 0  | \n",
       "| 4  |  1 |  1 | 3  | 2  |  1 | 3  | 1  | 1  | 0  | \n",
       "| 8  | 10 | 10 | 8  | 7  | 10 | 9  | 7  | 1  | 1  | \n",
       "\n",
       "\n"
      ],
      "text/plain": [
       "  Cl.thickness Cell.size Cell.shape Marg.adhesion Epith.c.size Bare.nuclei\n",
       "1 5             1         1         1             2             1         \n",
       "2 5             4         4         5             7            10         \n",
       "3 3             1         1         1             2             2         \n",
       "4 6             8         8         1             3             4         \n",
       "5 4             1         1         3             2             1         \n",
       "6 8            10        10         8             7            10         \n",
       "  Bl.cromatin Normal.nucleoli Mitoses Class\n",
       "1 3           1               1       0    \n",
       "2 3           2               1       0    \n",
       "3 3           1               1       0    \n",
       "4 3           7               1       0    \n",
       "5 3           1               1       0    \n",
       "6 9           7               1       1    "
      ]
     },
     "metadata": {},
     "output_type": "display_data"
    }
   ],
   "source": [
    "head(bc)"
   ]
  },
  {
   "cell_type": "code",
   "execution_count": 12,
   "metadata": {},
   "outputs": [
    {
     "data": {
      "text/plain": [
       "\n",
       "  0   1 \n",
       "444 239 "
      ]
     },
     "metadata": {},
     "output_type": "display_data"
    }
   ],
   "source": [
    "table(bc$Class)"
   ]
  },
  {
   "cell_type": "code",
   "execution_count": 14,
   "metadata": {},
   "outputs": [
    {
     "name": "stderr",
     "output_type": "stream",
     "text": [
      "Loading required package: lattice\n",
      "Loading required package: ggplot2\n"
     ]
    }
   ],
   "source": [
    "library(caret)"
   ]
  },
  {
   "cell_type": "code",
   "execution_count": 15,
   "metadata": {},
   "outputs": [],
   "source": [
    "# define 'not in' func\n",
    "'%ni%' <- Negate('%in%')\n",
    "# prevents printing scientific notations.\n",
    "options(scipen=999)"
   ]
  },
  {
   "cell_type": "code",
   "execution_count": 16,
   "metadata": {},
   "outputs": [
    {
     "data": {
      "text/plain": [
       "\n",
       "  0   1 \n",
       "311 168 "
      ]
     },
     "metadata": {},
     "output_type": "display_data"
    }
   ],
   "source": [
    "# Prep Training and Test data.\n",
    "set.seed(100)\n",
    "# 70% training data\n",
    "trainDataIndex <- createDataPartition(bc$Class, p=0.7,\n",
    "list = F)\n",
    "trainData <- bc[trainDataIndex, ]\n",
    "testData <- bc[-trainDataIndex, ]\n",
    "# show proportions\n",
    "table(trainData$Class)"
   ]
  },
  {
   "cell_type": "code",
   "execution_count": 17,
   "metadata": {},
   "outputs": [
    {
     "data": {
      "text/plain": [
       "\n",
       "  0   1 \n",
       "168 168 "
      ]
     },
     "metadata": {},
     "output_type": "display_data"
    }
   ],
   "source": [
    "# Down Sample\n",
    "set.seed(100)\n",
    "down_train <- downSample(x = trainData[,\n",
    " colnames(trainData) %ni% \"Class\"],\n",
    " y = trainData$Class)\n",
    "# show proportions\n",
    "table(down_train$Class)"
   ]
  },
  {
   "cell_type": "code",
   "execution_count": 19,
   "metadata": {},
   "outputs": [
    {
     "data": {
      "text/plain": [
       "\n",
       "Call:\n",
       "glm(formula = Class ~ Cl.thickness + Cell.size + Cell.shape, \n",
       "    family = \"binomial\", data = down_train)\n",
       "\n",
       "Deviance Residuals: \n",
       "    Min       1Q   Median       3Q      Max  \n",
       "-3.0716  -0.1534  -0.0316   0.0193   2.8420  \n",
       "\n",
       "Coefficients:\n",
       "             Estimate Std. Error z value        Pr(>|z|)    \n",
       "(Intercept)   -8.8755     1.3285  -6.681 0.0000000000237 ***\n",
       "Cl.thickness   0.7293     0.1768   4.125 0.0000370162955 ***\n",
       "Cell.size      1.0803     0.3334   3.240         0.00119 ** \n",
       "Cell.shape     0.8571     0.2920   2.935         0.00334 ** \n",
       "---\n",
       "Signif. codes:  0 ‘***’ 0.001 ‘**’ 0.01 ‘*’ 0.05 ‘.’ 0.1 ‘ ’ 1\n",
       "\n",
       "(Dispersion parameter for binomial family taken to be 1)\n",
       "\n",
       "    Null deviance: 465.795  on 335  degrees of freedom\n",
       "Residual deviance:  70.378  on 332  degrees of freedom\n",
       "AIC: 78.378\n",
       "\n",
       "Number of Fisher Scoring iterations: 8\n"
      ]
     },
     "metadata": {},
     "output_type": "display_data"
    }
   ],
   "source": [
    "# Build Logistic Model\n",
    "logitmod <- glm(Class ~ Cl.thickness + Cell.size +\n",
    "Cell.shape, family = \"binomial\", data=down_train)\n",
    "# Show summary\n",
    "summary(logitmod)"
   ]
  },
  {
   "cell_type": "code",
   "execution_count": 20,
   "metadata": {},
   "outputs": [],
   "source": [
    "# Now use it to predict the response on testData\n",
    "pred <- predict(logitmod, newdata = testData, type =\n",
    "\"response\")"
   ]
  },
  {
   "cell_type": "code",
   "execution_count": 21,
   "metadata": {},
   "outputs": [
    {
     "data": {
      "text/html": [
       "<dl class=dl-horizontal>\n",
       "\t<dt>1</dt>\n",
       "\t\t<dd>0.0358635710782435</dd>\n",
       "\t<dt>2</dt>\n",
       "\t\t<dd>0.925571615199986</dd>\n",
       "\t<dt>5</dt>\n",
       "\t\t<dd>0.0176219370496703</dd>\n",
       "\t<dt>8</dt>\n",
       "\t\t<dd>0.00973383234848058</dd>\n",
       "\t<dt>13</dt>\n",
       "\t\t<dd>0.641806266026917</dd>\n",
       "\t<dt>15</dt>\n",
       "\t\t<dd>0.999850251995433</dd>\n",
       "</dl>\n"
      ],
      "text/latex": [
       "\\begin{description*}\n",
       "\\item[1] 0.0358635710782435\n",
       "\\item[2] 0.925571615199986\n",
       "\\item[5] 0.0176219370496703\n",
       "\\item[8] 0.00973383234848058\n",
       "\\item[13] 0.641806266026917\n",
       "\\item[15] 0.999850251995433\n",
       "\\end{description*}\n"
      ],
      "text/markdown": [
       "1\n",
       ":   0.03586357107824352\n",
       ":   0.9255716151999865\n",
       ":   0.01762193704967038\n",
       ":   0.0097338323484805813\n",
       ":   0.64180626602691715\n",
       ":   0.999850251995433\n",
       "\n"
      ],
      "text/plain": [
       "          1           2           5           8          13          15 \n",
       "0.035863571 0.925571615 0.017621937 0.009733832 0.641806266 0.999850252 "
      ]
     },
     "metadata": {},
     "output_type": "display_data"
    }
   ],
   "source": [
    "head(pred)"
   ]
  },
  {
   "cell_type": "code",
   "execution_count": 22,
   "metadata": {},
   "outputs": [],
   "source": [
    "# set probabilities 1 or 0\n",
    "y_pred_num <- ifelse(pred > 0.5, 1, 0)\n",
    "# set probabilities 1 or 0 as factor\n",
    "y_pred <- factor(y_pred_num, levels=c(0, 1))"
   ]
  },
  {
   "cell_type": "code",
   "execution_count": 23,
   "metadata": {},
   "outputs": [],
   "source": [
    "y_act <- ifelse(testData$Class == \"malignant\", 1, 0)"
   ]
  },
  {
   "cell_type": "code",
   "execution_count": 25,
   "metadata": {},
   "outputs": [
    {
     "data": {
      "text/html": [
       "0.941176470588235"
      ],
      "text/latex": [
       "0.941176470588235"
      ],
      "text/markdown": [
       "0.941176470588235"
      ],
      "text/plain": [
       "[1] 0.9411765"
      ]
     },
     "metadata": {},
     "output_type": "display_data"
    }
   ],
   "source": [
    "mean(y_pred == testData$Class)"
   ]
  },
  {
   "cell_type": "code",
   "execution_count": null,
   "metadata": {},
   "outputs": [],
   "source": []
  }
 ],
 "metadata": {
  "kernelspec": {
   "display_name": "R",
   "language": "R",
   "name": "ir"
  },
  "language_info": {
   "codemirror_mode": "r",
   "file_extension": ".r",
   "mimetype": "text/x-r-source",
   "name": "R",
   "pygments_lexer": "r",
   "version": "3.5.1"
  }
 },
 "nbformat": 4,
 "nbformat_minor": 2
}
